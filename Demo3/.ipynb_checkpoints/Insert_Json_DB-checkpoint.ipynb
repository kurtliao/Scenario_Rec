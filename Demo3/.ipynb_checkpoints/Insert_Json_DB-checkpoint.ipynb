{
 "cells": [
  {
   "cell_type": "code",
   "execution_count": 14,
   "metadata": {
    "collapsed": true
   },
   "outputs": [],
   "source": [
    "# coding: utf-8\n",
    "\n",
    "\n",
    "import pandas as pd\n",
    "import json\n",
    "from datetime import datetime\n",
    "import calendar \n",
    "from flask import Flask\n",
    "from flask import jsonify\n",
    "import redis\n",
    "import time\n",
    "import sys\n",
    "reload(sys)\n",
    "sys.setdefaultencoding('utf-8')\n",
    "import inspect, os\n",
    "import psycopg2\n",
    "import math"
   ]
  },
  {
   "cell_type": "code",
   "execution_count": 17,
   "metadata": {
    "collapsed": true
   },
   "outputs": [],
   "source": [
    "redis_conn = redis.Redis(host='localhost',port=6379,db=0)\n",
    "sql_conn = psycopg2.connect(database = \"MJ_PROTOTYPE\",\n",
    "                        host = \"localhost\",\n",
    "                        user = \"liaoziqing\",\n",
    "                        password = \"\")\n",
    "cur = sql_conn.cursor()"
   ]
  },
  {
   "cell_type": "code",
   "execution_count": 3,
   "metadata": {
    "collapsed": false
   },
   "outputs": [],
   "source": [
    "a = inspect.getfile(inspect.currentframe())\n",
    "b = os.path.dirname(os.path.abspath(a)) \n",
    "file_path_main_edition = os.path.join( b , 'main_edition.json' )\n",
    "jsonfile = open(file_path_main_edition,'r')\n",
    "main_Json = json.load(jsonfile)\n",
    "file_path_second_edition = os.path.join( b , 'second_edition.json' )\n",
    "jsonfile = open(file_path_second_edition,'r')\n",
    "second_Json = json.load(jsonfile)\n",
    "file_path_TagDB = os.path.join( b , 'TAG_DB.json' )\n",
    "jsonfile = open(file_path_TagDB,'r')\n",
    "TagDB_Json = json.load(jsonfile)\n",
    "file_path_tag_offer = os.path.join( b , 'tag_offer.json' )\n",
    "jsonfile = open(file_path_tag_offer,'r')\n",
    "TagOffer_Json = json.load(jsonfile)"
   ]
  },
  {
   "cell_type": "code",
   "execution_count": 4,
   "metadata": {
    "collapsed": false
   },
   "outputs": [],
   "source": [
    "SQL= 'CREATE TABLE main_edition ( id serial NOT NULL PRIMARY KEY , tag_info json NOT NULL )'\n",
    "cur.execute(SQL)\n",
    "sql_conn.commit()"
   ]
  },
  {
   "cell_type": "code",
   "execution_count": 4,
   "metadata": {
    "collapsed": true
   },
   "outputs": [],
   "source": [
    "SQL= 'CREATE TABLE second_edition ( id serial NOT NULL PRIMARY KEY , tag_info json NOT NULL )'\n",
    "cur.execute(SQL)\n",
    "sql_conn.commit()"
   ]
  },
  {
   "cell_type": "code",
   "execution_count": 5,
   "metadata": {
    "collapsed": true
   },
   "outputs": [],
   "source": [
    "SQL= 'CREATE TABLE tag_db ( id serial NOT NULL PRIMARY KEY , tag_info json NOT NULL )'\n",
    "cur.execute(SQL)\n",
    "sql_conn.commit()"
   ]
  },
  {
   "cell_type": "code",
   "execution_count": 6,
   "metadata": {
    "collapsed": true
   },
   "outputs": [],
   "source": [
    "SQL= 'CREATE TABLE offer_tagging ( id serial NOT NULL PRIMARY KEY , off_info json NOT NULL )'\n",
    "cur.execute(SQL)\n",
    "sql_conn.commit()"
   ]
  },
  {
   "cell_type": "code",
   "execution_count": 6,
   "metadata": {
    "collapsed": false
   },
   "outputs": [],
   "source": [
    "for i in main_Json:\n",
    "    SQL = \"INSERT INTO main_edition(tag_info) VALUES('{}');\".format(json.dumps(i))\n",
    "    cur.execute(SQL)\n",
    "    sql_conn.commit()"
   ]
  },
  {
   "cell_type": "code",
   "execution_count": 7,
   "metadata": {
    "collapsed": true
   },
   "outputs": [],
   "source": [
    "for i in second_Json:\n",
    "    SQL = \"INSERT INTO second_edition(tag_info) VALUES('{}');\".format(json.dumps(i))\n",
    "    cur.execute(SQL)\n",
    "    sql_conn.commit()"
   ]
  },
  {
   "cell_type": "code",
   "execution_count": 8,
   "metadata": {
    "collapsed": true
   },
   "outputs": [],
   "source": [
    "for i in TagDB_Json:\n",
    "    SQL = \"INSERT INTO tag_db(tag_info) VALUES('{}');\".format(json.dumps(i))\n",
    "    cur.execute(SQL)\n",
    "    sql_conn.commit()"
   ]
  },
  {
   "cell_type": "code",
   "execution_count": 9,
   "metadata": {
    "collapsed": true
   },
   "outputs": [],
   "source": [
    "for i in TagOffer_Json:\n",
    "    SQL = \"INSERT INTO offer_tagging(off_info) VALUES('{}');\".format(json.dumps(i))\n",
    "    cur.execute(SQL)\n",
    "    sql_conn.commit()"
   ]
  },
  {
   "cell_type": "code",
   "execution_count": 12,
   "metadata": {
    "collapsed": true
   },
   "outputs": [],
   "source": [
    "# 貼標庫格式\n",
    "def Tag_query(tag, sql_db):\n",
    "    SQL = \"SELECT tag_info FROM tag_db WHERE tag_info->>'TAG_ID' = '{}';\".format(tag)\n",
    "    sql_db.execute(SQL)\n",
    "    records = sql_db.fetchall()[0][0]\n",
    "    data = {}\n",
    "    data['TAG_ID'] = records['TAG_ID']\n",
    "    data['scenario'] = records['scenario']\n",
    "    data['dataSource'] = records['dataSource']\n",
    "    data['securityFilter'] = records['securityFilter']\n",
    "    data['tagTime'] = time.time()\n",
    "    data['expireTime'] = time.time() + records['expireAfter']\n",
    "    data['isValid'] = records['isActive']\n",
    "    return data"
   ]
  },
  {
   "cell_type": "code",
   "execution_count": 11,
   "metadata": {
    "collapsed": false
   },
   "outputs": [
    {
     "data": {
      "text/plain": [
       "[({u'Chinese_Desc': u'\\u8cc7\\u91d1\\u9700\\u6c42/\\u7121\\u64d4\\u4fdd/\\u5b98\\u7db2',\n",
       "   u'TAG_ID': u'TG0001',\n",
       "   u'createTime': 17385,\n",
       "   u'dataSource': u'WB',\n",
       "   u'expireAfter': 28,\n",
       "   u'isActive': u'Y',\n",
       "   u'modelId': u'MINT00001',\n",
       "   u'operationType': u'Batch',\n",
       "   u'recommedWeight': 1,\n",
       "   u'referenceDocument': u'INTENTION_REF',\n",
       "   u'scenario': {u'DIIS1': u'I', u'DIIS2': u'LN', u'DIIS3': u'LN01'},\n",
       "   u'securityFilter': u'admin',\n",
       "   u'tagVersion': u'V1',\n",
       "   u'updateTime': 17385},)]"
      ]
     },
     "execution_count": 11,
     "metadata": {},
     "output_type": "execute_result"
    }
   ],
   "source": [
    "SQL= \"Select tag_info from tag_db  where tag_info ->>'TAG_ID' = 'TG0001';\"\n",
    "cur.execute(SQL)\n",
    "cur.fetchall()"
   ]
  },
  {
   "cell_type": "code",
   "execution_count": 16,
   "metadata": {
    "collapsed": false
   },
   "outputs": [],
   "source": [
    "file_path = inspect.getfile(inspect.currentframe())\n",
    "file_direction = os.path.dirname(os.path.abspath(file_path))\n",
    "tagging_log = os.path.join( file_direction , 'TAG_LOG_DOWNLOAD.xlsx' )\n",
    "tagging_value_log = os.path.join( file_direction , 'TAG_Value_DOWNLOAD.xlsx' )\n",
    "df = pd.read_excel(tagging_log)\n",
    "df_value = pd.read_excel(tagging_value_log)"
   ]
  },
  {
   "cell_type": "code",
   "execution_count": 18,
   "metadata": {
    "collapsed": true
   },
   "outputs": [],
   "source": [
    "def TaggingDB_ETL(data,data_value, TagDB=cur, TaggingDB=redis_conn):\n",
    "    vids = data.ID.unique()\n",
    "    for i in vids:\n",
    "        Tagging = {}\n",
    "        Tagging['VID'] = i\n",
    "        Tagging['batchTag'] = []\n",
    "        Tagging['realtimeTag'] = []\n",
    "        tag = data[data.ID==i]['UTID']\n",
    "        tag_value = data_value[data_value.ID == i]['UTID']\n",
    "        for j in tag:\n",
    "            Tagging['batchTag'].append(Tag_query(j, TagDB))\n",
    "        for j in tag_value:\n",
    "            tag_data = Tag_query(j, TagDB)\n",
    "            tag_data['Tag_Value'] = (data_value[(data_value.ID == i) & (data_value.UTID==j)]['TAG_VALUE'].values[0])\n",
    "            Tagging['batchTag'].append(tag_data)\n",
    "        TaggingDB.set(i, json.dumps(Tagging,ensure_ascii=False))"
   ]
  },
  {
   "cell_type": "code",
   "execution_count": 20,
   "metadata": {
    "collapsed": true
   },
   "outputs": [],
   "source": [
    "TaggingDB_ETL(df,df_value,TagDB=cur,TaggingDB=redis_conn)"
   ]
  }
 ],
 "metadata": {
  "kernelspec": {
   "display_name": "Python 2",
   "language": "python",
   "name": "python2"
  },
  "language_info": {
   "codemirror_mode": {
    "name": "ipython",
    "version": 2
   },
   "file_extension": ".py",
   "mimetype": "text/x-python",
   "name": "python",
   "nbconvert_exporter": "python",
   "pygments_lexer": "ipython2",
   "version": "2.7.12"
  }
 },
 "nbformat": 4,
 "nbformat_minor": 1
}
