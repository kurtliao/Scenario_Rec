{
 "cells": [
  {
   "cell_type": "code",
   "execution_count": 45,
   "metadata": {
    "collapsed": false
   },
   "outputs": [],
   "source": [
    "import pybreaker\n",
    "import redis\n",
    "import json"
   ]
  },
  {
   "cell_type": "code",
   "execution_count": 29,
   "metadata": {
    "collapsed": false
   },
   "outputs": [
    {
     "data": {
      "text/plain": [
       "'{\"batchTag\": [{\"tagTime\": 1511753338.487147, \"scenario\": {\"DIIS2\": \"SHP\", \"DIIS3\": \"SHP04\", \"DIIS1\": \"H\"}, \"isValid\": \"Y\", \"securityFilter\": \"admin\", \"expireTime\": 1511753366.487148, \"TAG_ID\": \"TG0122\", \"dataSource\": \"WB\"}, {\"tagTime\": 1511753338.490648, \"scenario\": {\"DIIS2\": \"SHP\", \"DIIS3\": \"SHP06\", \"DIIS1\": \"H\"}, \"isValid\": \"Y\", \"securityFilter\": \"admin\", \"expireTime\": 1511753366.490649, \"TAG_ID\": \"TG0124\", \"dataSource\": \"WB\"}, {\"tagTime\": 1511753338.493871, \"scenario\": {\"DIIS2\": \"SHP\", \"DIIS3\": \"SHP02\", \"DIIS1\": \"H\"}, \"isValid\": \"Y\", \"securityFilter\": \"admin\", \"expireTime\": 1511753366.493872, \"TAG_ID\": \"TG0127\", \"dataSource\": \"CC\"}, {\"tagTime\": 1511753338.497254, \"scenario\": {\"DIIS2\": \"SHP\", \"DIIS3\": \"SHP03\", \"DIIS1\": \"H\"}, \"isValid\": \"Y\", \"securityFilter\": \"admin\", \"expireTime\": 1511753366.497255, \"TAG_ID\": \"TG0128\", \"dataSource\": \"NB\"}, {\"tagTime\": 1511753338.501975, \"scenario\": {\"DIIS2\": \"SHP\", \"DIIS3\": \"SHP04\", \"DIIS1\": \"H\"}, \"isValid\": \"Y\", \"securityFilter\": \"admin\", \"expireTime\": 1511753366.501976, \"TAG_ID\": \"TG0129\", \"dataSource\": \"PTT\"}, {\"tagTime\": 1511753338.508446, \"scenario\": {\"DIIS2\": \"CC03\", \"DIIS3\": \"CC0348\", \"DIIS1\": \"B\"}, \"isValid\": \"Y\", \"securityFilter\": \"admin\", \"expireTime\": 1511753366.508447, \"TAG_ID\": \"TG0203\", \"dataSource\": \"WB\"}, {\"tagTime\": 1511753338.51224, \"scenario\": {\"DIIS2\": \"CC\", \"DIIS3\": \"CC20\", \"DIIS1\": \"I\"}, \"isValid\": \"Y\", \"securityFilter\": \"admin\", \"expireTime\": 1511753366.512241, \"TAG_ID\": \"TG0087\", \"dataSource\": \"CC\"}, {\"tagTime\": 1511753338.515572, \"scenario\": {\"DIIS2\": \"CC\", \"DIIS3\": \"CC09\", \"DIIS1\": \"I\"}, \"isValid\": \"Y\", \"securityFilter\": \"admin\", \"expireTime\": 1511753368.515574, \"TAG_ID\": \"TG0096\", \"dataSource\": \"CC\"}, {\"tagTime\": 1511753338.5195, \"scenario\": {\"DIIS2\": \"CC\", \"DIIS3\": \"CC20\", \"DIIS1\": \"I\"}, \"isValid\": \"Y\", \"securityFilter\": \"admin\", \"expireTime\": 1511753366.5195, \"TAG_ID\": \"TG0109\", \"dataSource\": \"PTT\"}, {\"tagTime\": 1511753338.52278, \"scenario\": {\"DIIS2\": \"LN\", \"DIIS3\": \"LN18\", \"DIIS1\": \"I\"}, \"isValid\": \"Y\", \"securityFilter\": \"admin\", \"expireTime\": 1511753368.522781, \"TAG_ID\": \"TG0038\", \"dataSource\": \"CC\"}, {\"tagTime\": 1511753338.527259, \"scenario\": {\"DIIS2\": \"LN\", \"DIIS3\": \"LN01\", \"DIIS1\": \"I\"}, \"isValid\": \"Y\", \"securityFilter\": \"admin\", \"expireTime\": 1511753366.527259, \"TAG_ID\": \"TG0043\", \"dataSource\": \"WB\"}, {\"tagTime\": 1511753338.53087, \"scenario\": {\"DIIS2\": \"LN\", \"DIIS3\": \"LN01\", \"DIIS1\": \"I\"}, \"isValid\": \"Y\", \"securityFilter\": \"admin\", \"expireTime\": 1511753366.530871, \"TAG_ID\": \"TG0021\", \"dataSource\": \"WB\"}, {\"tagTime\": 1511753338.53408, \"scenario\": {\"DIIS2\": \"LN\", \"DIIS3\": \"LN02\", \"DIIS1\": \"I\"}, \"isValid\": \"Y\", \"securityFilter\": \"admin\", \"expireTime\": 1511753366.534081, \"TAG_ID\": \"TG0022\", \"dataSource\": \"WB\"}, {\"tagTime\": 1511753338.537487, \"scenario\": {\"DIIS2\": \"REC01\", \"DIIS3\": \"28\", \"DIIS1\": \"R\"}, \"isValid\": \"Y\", \"securityFilter\": \"admin\", \"expireTime\": 1511753368.537488, \"TAG_ID\": \"TG0357\", \"dataSource\": \"CC\"}, {\"tagTime\": 1511753338.541327, \"scenario\": {\"DIIS2\": \"REC01\", \"DIIS3\": \"34\", \"DIIS1\": \"R\"}, \"isValid\": \"Y\", \"securityFilter\": \"admin\", \"expireTime\": 1511753366.541328, \"TAG_ID\": \"TG0363\", \"dataSource\": \"WB\"}, {\"tagTime\": 1511753338.544177, \"scenario\": {\"DIIS2\": \"REC01\", \"DIIS3\": \"46\", \"DIIS1\": \"R\"}, \"isValid\": \"Y\", \"securityFilter\": \"admin\", \"expireTime\": 1511753368.544177, \"TAG_ID\": \"TG0375\", \"dataSource\": \"CC\"}, {\"tagTime\": 1511753338.546898, \"scenario\": {\"DIIS2\": \"REC01\", \"DIIS3\": \"15\", \"DIIS1\": \"R\"}, \"isValid\": \"Y\", \"securityFilter\": \"admin\", \"expireTime\": 1511753366.546898, \"TAG_ID\": \"TG0344\", \"dataSource\": \"WB\"}, {\"tagTime\": 1511753338.549614, \"scenario\": {\"DIIS2\": \"REC01\", \"DIIS3\": \"60\", \"DIIS1\": \"R\"}, \"isValid\": \"Y\", \"securityFilter\": \"admin\", \"expireTime\": 1511753366.549614, \"TAG_ID\": \"TG0389\", \"dataSource\": \"PTT\"}, {\"tagTime\": 1511753338.552461, \"scenario\": {\"DIIS2\": \"SEG001\", \"DIIS3\": \"01\", \"DIIS1\": \"S\"}, \"isValid\": \"Y\", \"securityFilter\": \"admin\", \"Tag_Value\": 1, \"expireTime\": 1511753368.552462, \"TAG_ID\": \"SEG001\", \"dataSource\": \"EBM\"}, {\"tagTime\": 1511753338.557926, \"scenario\": {\"DIIS2\": \"SEG002\", \"DIIS3\": \"02\", \"DIIS1\": \"S\"}, \"isValid\": \"Y\", \"securityFilter\": \"admin\", \"Tag_Value\": 1, \"expireTime\": 1511753368.557927, \"TAG_ID\": \"SEG002\", \"dataSource\": \"EBM\"}], \"realtimeTag\": [], \"VID\": 1}'"
      ]
     },
     "execution_count": 29,
     "metadata": {},
     "output_type": "execute_result"
    }
   ],
   "source": [
    "r = redis.Redis(host='localhost',port=6379,db=0,socket_timeout=1)\n",
    "r.get(1)"
   ]
  },
  {
   "cell_type": "code",
   "execution_count": 41,
   "metadata": {
    "collapsed": false
   },
   "outputs": [
    {
     "name": "stdout",
     "output_type": "stream",
     "text": [
      "{\"batchTag\": [{\"tagTime\": 1511753355.70495, \"scenario\": {\"DIIS2\": \"SHP\", \"DIIS3\": \"SHP04\", \"DIIS1\": \"H\"}, \"isValid\": \"Y\", \"securityFilter\": \"admin\", \"expireTime\": 1511753383.70495, \"TAG_ID\": \"TG0122\", \"dataSource\": \"WB\"}, {\"tagTime\": 1511753355.707927, \"scenario\": {\"DIIS2\": \"SHP\", \"DIIS3\": \"SHP05\", \"DIIS1\": \"H\"}, \"isValid\": \"Y\", \"securityFilter\": \"admin\", \"expireTime\": 1511753383.707927, \"TAG_ID\": \"TG0123\", \"dataSource\": \"WB\"}, {\"tagTime\": 1511753355.71072, \"scenario\": {\"DIIS2\": \"SHP\", \"DIIS3\": \"SHP07\", \"DIIS1\": \"H\"}, \"isValid\": \"Y\", \"securityFilter\": \"admin\", \"expireTime\": 1511753383.71072, \"TAG_ID\": \"TG0125\", \"dataSource\": \"WB\"}, {\"tagTime\": 1511753355.71348, \"scenario\": {\"DIIS2\": \"SHP\", \"DIIS3\": \"SHP01\", \"DIIS1\": \"H\"}, \"isValid\": \"Y\", \"securityFilter\": \"admin\", \"expireTime\": 1511753383.713492, \"TAG_ID\": \"TG0126\", \"dataSource\": \"CC\"}, {\"tagTime\": 1511753355.716868, \"scenario\": {\"DIIS2\": \"CFE\", \"DIIS3\": \"CFE00\", \"DIIS1\": \"H\"}, \"isValid\": \"Y\", \"securityFilter\": \"admin\", \"expireTime\": 1511853354.716868, \"TAG_ID\": \"TG0133\", \"dataSource\": \"PF\"}, {\"tagTime\": 1511753355.719635, \"scenario\": {\"DIIS2\": \"CFE\", \"DIIS3\": \"CFE00\", \"DIIS1\": \"H\"}, \"isValid\": \"Y\", \"securityFilter\": \"admin\", \"expireTime\": 1511753385.719635, \"TAG_ID\": \"TG0135\", \"dataSource\": \"CC\"}, {\"tagTime\": 1511753355.72238, \"scenario\": {\"DIIS2\": \"FOD\", \"DIIS3\": \"FOD00\", \"DIIS1\": \"H\"}, \"isValid\": \"Y\", \"securityFilter\": \"admin\", \"expireTime\": 1511853354.722381, \"TAG_ID\": \"TG0134\", \"dataSource\": \"PF\"}, {\"tagTime\": 1511753355.725349, \"scenario\": {\"DIIS2\": \"CC03\", \"DIIS3\": \"CC0349\", \"DIIS1\": \"B\"}, \"isValid\": \"Y\", \"securityFilter\": \"admin\", \"expireTime\": 1511753383.72535, \"TAG_ID\": \"TG0204\", \"dataSource\": \"WB\"}, {\"tagTime\": 1511753355.72809, \"scenario\": {\"DIIS2\": \"CC\", \"DIIS3\": \"CC19\", \"DIIS1\": \"I\"}, \"isValid\": \"Y\", \"securityFilter\": \"admin\", \"expireTime\": 1511753383.728091, \"TAG_ID\": \"TG0086\", \"dataSource\": \"CC\"}, {\"tagTime\": 1511753355.730804, \"scenario\": {\"DIIS2\": \"CC\", \"DIIS3\": \"CC20\", \"DIIS1\": \"I\"}, \"isValid\": \"Y\", \"securityFilter\": \"admin\", \"expireTime\": 1511753383.730805, \"TAG_ID\": \"TG0087\", \"dataSource\": \"CC\"}, {\"tagTime\": 1511753355.733586, \"scenario\": {\"DIIS2\": \"CC\", \"DIIS3\": \"CC23\", \"DIIS1\": \"I\"}, \"isValid\": \"Y\", \"securityFilter\": \"admin\", \"expireTime\": 1511753383.733587, \"TAG_ID\": \"TG0090\", \"dataSource\": \"CTI\"}, {\"tagTime\": 1511753355.73648, \"scenario\": {\"DIIS2\": \"CC\", \"DIIS3\": \"CC05\", \"DIIS1\": \"I\"}, \"isValid\": \"Y\", \"securityFilter\": \"admin\", \"expireTime\": 1511753383.736481, \"TAG_ID\": \"TG0092\", \"dataSource\": \"TE\"}, {\"tagTime\": 1511753355.739616, \"scenario\": {\"DIIS2\": \"CC\", \"DIIS3\": \"CC08\", \"DIIS1\": \"I\"}, \"isValid\": \"Y\", \"securityFilter\": \"admin\", \"expireTime\": 1511753385.739616, \"TAG_ID\": \"TG0095\", \"dataSource\": \"CC\"}, {\"tagTime\": 1511753355.742567, \"scenario\": {\"DIIS2\": \"LN02\", \"DIIS3\": \"LN0204\", \"DIIS1\": \"B\"}, \"isValid\": \"Y\", \"securityFilter\": \"admin\", \"expireTime\": 1511753385.742567, \"TAG_ID\": \"TG0276\", \"dataSource\": \"CC\"}, {\"tagTime\": 1511753355.745362, \"scenario\": {\"DIIS2\": \"FX01\", \"DIIS3\": \"09\", \"DIIS1\": \"B\"}, \"isValid\": \"Y\", \"securityFilter\": \"admin\", \"expireTime\": 1511753385.745362, \"TAG_ID\": \"TG0316\", \"dataSource\": \"CC\"}, {\"tagTime\": 1511753355.748139, \"scenario\": {\"DIIS2\": \"FX01\", \"DIIS3\": \"10\", \"DIIS1\": \"B\"}, \"isValid\": \"Y\", \"securityFilter\": \"admin\", \"expireTime\": 1511753385.74814, \"TAG_ID\": \"TG0317\", \"dataSource\": \"CC\"}, {\"tagTime\": 1511753355.750941, \"scenario\": {\"DIIS2\": \"FX02\", \"DIIS3\": \"12\", \"DIIS1\": \"B\"}, \"isValid\": \"Y\", \"securityFilter\": \"admin\", \"expireTime\": 1511753383.750941, \"TAG_ID\": \"TG0329\", \"dataSource\": \"PTT\"}, {\"tagTime\": 1511753355.753651, \"scenario\": {\"DIIS2\": \"LC01\", \"DIIS3\": \"10\", \"DIIS1\": \"A\"}, \"isValid\": \"Y\", \"securityFilter\": \"admin\", \"expireTime\": 1511753383.753651, \"TAG_ID\": \"TG0289\", \"dataSource\": \"PTT\"}, {\"tagTime\": 1511753355.756429, \"scenario\": {\"DIIS2\": \"SEG001\", \"DIIS3\": \"01\", \"DIIS1\": \"S\"}, \"isValid\": \"Y\", \"securityFilter\": \"admin\", \"Tag_Value\": 5, \"expireTime\": 1511753385.75643, \"TAG_ID\": \"SEG001\", \"dataSource\": \"EBM\"}, {\"tagTime\": 1511753355.761137, \"scenario\": {\"DIIS2\": \"SEG002\", \"DIIS3\": \"02\", \"DIIS1\": \"S\"}, \"isValid\": \"Y\", \"securityFilter\": \"admin\", \"Tag_Value\": 1, \"expireTime\": 1511753385.761137, \"TAG_ID\": \"SEG002\", \"dataSource\": \"EBM\"}], \"realtimeTag\": [], \"VID\": 250}\n"
     ]
    }
   ],
   "source": [
    "a=r.get(250)\n",
    "print a"
   ]
  },
  {
   "cell_type": "code",
   "execution_count": 47,
   "metadata": {
    "collapsed": true
   },
   "outputs": [],
   "source": [
    "a= '{\"batchTag\": [{\"tagTime\": 1511753355.70495, \"scenario\": {\"DIIS2\": \"SHP\", \"DIIS3\": \"SHP04\", \"DIIS1\": \"H\"}, \"isValid\": \"Y\", \"securityFilter\": \"admin\", \"expireTime\": 1511753383.70495, \"TAG_ID\": \"TG0122\", \"dataSource\": \"WB\"}, {\"tagTime\": 1511753355.707927, \"scenario\": {\"DIIS2\": \"SHP\", \"DIIS3\": \"SHP05\", \"DIIS1\": \"H\"}, \"isValid\": \"Y\", \"securityFilter\": \"admin\", \"expireTime\": 1511753383.707927, \"TAG_ID\": \"TG0123\", \"dataSource\": \"WB\"}, {\"tagTime\": 1511753355.71072, \"scenario\": {\"DIIS2\": \"SHP\", \"DIIS3\": \"SHP07\", \"DIIS1\": \"H\"}, \"isValid\": \"Y\", \"securityFilter\": \"admin\", \"expireTime\": 1511753383.71072, \"TAG_ID\": \"TG0125\", \"dataSource\": \"WB\"}, {\"tagTime\": 1511753355.71348, \"scenario\": {\"DIIS2\": \"SHP\", \"DIIS3\": \"SHP01\", \"DIIS1\": \"H\"}, \"isValid\": \"Y\", \"securityFilter\": \"admin\", \"expireTime\": 1511753383.713492, \"TAG_ID\": \"TG0126\", \"dataSource\": \"CC\"}, {\"tagTime\": 1511753355.716868, \"scenario\": {\"DIIS2\": \"CFE\", \"DIIS3\": \"CFE00\", \"DIIS1\": \"H\"}, \"isValid\": \"Y\", \"securityFilter\": \"admin\", \"expireTime\": 1511853354.716868, \"TAG_ID\": \"TG0133\", \"dataSource\": \"PF\"}, {\"tagTime\": 1511753355.719635, \"scenario\": {\"DIIS2\": \"CFE\", \"DIIS3\": \"CFE00\", \"DIIS1\": \"H\"}, \"isValid\": \"Y\", \"securityFilter\": \"admin\", \"expireTime\": 1511753385.719635, \"TAG_ID\": \"TG0135\", \"dataSource\": \"CC\"}, {\"tagTime\": 1511753355.72238, \"scenario\": {\"DIIS2\": \"FOD\", \"DIIS3\": \"FOD00\", \"DIIS1\": \"H\"}, \"isValid\": \"Y\", \"securityFilter\": \"admin\", \"expireTime\": 1511853354.722381, \"TAG_ID\": \"TG0134\", \"dataSource\": \"PF\"}, {\"tagTime\": 1511753355.725349, \"scenario\": {\"DIIS2\": \"CC03\", \"DIIS3\": \"CC0349\", \"DIIS1\": \"B\"}, \"isValid\": \"Y\", \"securityFilter\": \"admin\", \"expireTime\": 1511753383.72535, \"TAG_ID\": \"TG0204\", \"dataSource\": \"WB\"}, {\"tagTime\": 1511753355.72809, \"scenario\": {\"DIIS2\": \"CC\", \"DIIS3\": \"CC19\", \"DIIS1\": \"I\"}, \"isValid\": \"Y\", \"securityFilter\": \"admin\", \"expireTime\": 1511753383.728091, \"TAG_ID\": \"TG0086\", \"dataSource\": \"CC\"}, {\"tagTime\": 1511753355.730804, \"scenario\": {\"DIIS2\": \"CC\", \"DIIS3\": \"CC20\", \"DIIS1\": \"I\"}, \"isValid\": \"Y\", \"securityFilter\": \"admin\", \"expireTime\": 1511753383.730805, \"TAG_ID\": \"TG0087\", \"dataSource\": \"CC\"}, {\"tagTime\": 1511753355.733586, \"scenario\": {\"DIIS2\": \"CC\", \"DIIS3\": \"CC23\", \"DIIS1\": \"I\"}, \"isValid\": \"Y\", \"securityFilter\": \"admin\", \"expireTime\": 1511753383.733587, \"TAG_ID\": \"TG0090\", \"dataSource\": \"CTI\"}, {\"tagTime\": 1511753355.73648, \"scenario\": {\"DIIS2\": \"CC\", \"DIIS3\": \"CC05\", \"DIIS1\": \"I\"}, \"isValid\": \"Y\", \"securityFilter\": \"admin\", \"expireTime\": 1511753383.736481, \"TAG_ID\": \"TG0092\", \"dataSource\": \"TE\"}, {\"tagTime\": 1511753355.739616, \"scenario\": {\"DIIS2\": \"CC\", \"DIIS3\": \"CC08\", \"DIIS1\": \"I\"}, \"isValid\": \"Y\", \"securityFilter\": \"admin\", \"expireTime\": 1511753385.739616, \"TAG_ID\": \"TG0095\", \"dataSource\": \"CC\"}, {\"tagTime\": 1511753355.742567, \"scenario\": {\"DIIS2\": \"LN02\", \"DIIS3\": \"LN0204\", \"DIIS1\": \"B\"}, \"isValid\": \"Y\", \"securityFilter\": \"admin\", \"expireTime\": 1511753385.742567, \"TAG_ID\": \"TG0276\", \"dataSource\": \"CC\"}, {\"tagTime\": 1511753355.745362, \"scenario\": {\"DIIS2\": \"FX01\", \"DIIS3\": \"09\", \"DIIS1\": \"B\"}, \"isValid\": \"Y\", \"securityFilter\": \"admin\", \"expireTime\": 1511753385.745362, \"TAG_ID\": \"TG0316\", \"dataSource\": \"CC\"}, {\"tagTime\": 1511753355.748139, \"scenario\": {\"DIIS2\": \"FX01\", \"DIIS3\": \"10\", \"DIIS1\": \"B\"}, \"isValid\": \"Y\", \"securityFilter\": \"admin\", \"expireTime\": 1511753385.74814, \"TAG_ID\": \"TG0317\", \"dataSource\": \"CC\"}, {\"tagTime\": 1511753355.750941, \"scenario\": {\"DIIS2\": \"FX02\", \"DIIS3\": \"12\", \"DIIS1\": \"B\"}, \"isValid\": \"Y\", \"securityFilter\": \"admin\", \"expireTime\": 1511753383.750941, \"TAG_ID\": \"TG0329\", \"dataSource\": \"PTT\"}, {\"tagTime\": 1511753355.753651, \"scenario\": {\"DIIS2\": \"LC01\", \"DIIS3\": \"10\", \"DIIS1\": \"A\"}, \"isValid\": \"Y\", \"securityFilter\": \"admin\", \"expireTime\": 1511753383.753651, \"TAG_ID\": \"TG0289\", \"dataSource\": \"PTT\"}, {\"tagTime\": 1511753355.756429, \"scenario\": {\"DIIS2\": \"SEG001\", \"DIIS3\": \"01\", \"DIIS1\": \"S\"}, \"isValid\": \"Y\", \"securityFilter\": \"admin\", \"Tag_Value\": 5, \"expireTime\": 1511753385.75643, \"TAG_ID\": \"SEG001\", \"dataSource\": \"EBM\"}, {\"tagTime\": 1511753355.761137, \"scenario\": {\"DIIS2\": \"SEG002\", \"DIIS3\": \"02\", \"DIIS1\": \"S\"}, \"isValid\": \"Y\", \"securityFilter\": \"admin\", \"Tag_Value\": 1, \"expireTime\": 1511753385.761137, \"TAG_ID\": \"SEG002\", \"dataSource\": \"EBM\"}], \"realtimeTag\": [], \"VID\": 250}'"
   ]
  },
  {
   "cell_type": "code",
   "execution_count": 48,
   "metadata": {
    "collapsed": false
   },
   "outputs": [
    {
     "data": {
      "text/plain": [
       "{u'VID': 250,\n",
       " u'batchTag': [{u'TAG_ID': u'TG0122',\n",
       "   u'dataSource': u'WB',\n",
       "   u'expireTime': 1511753383.70495,\n",
       "   u'isValid': u'Y',\n",
       "   u'scenario': {u'DIIS1': u'H', u'DIIS2': u'SHP', u'DIIS3': u'SHP04'},\n",
       "   u'securityFilter': u'admin',\n",
       "   u'tagTime': 1511753355.70495},\n",
       "  {u'TAG_ID': u'TG0123',\n",
       "   u'dataSource': u'WB',\n",
       "   u'expireTime': 1511753383.707927,\n",
       "   u'isValid': u'Y',\n",
       "   u'scenario': {u'DIIS1': u'H', u'DIIS2': u'SHP', u'DIIS3': u'SHP05'},\n",
       "   u'securityFilter': u'admin',\n",
       "   u'tagTime': 1511753355.707927},\n",
       "  {u'TAG_ID': u'TG0125',\n",
       "   u'dataSource': u'WB',\n",
       "   u'expireTime': 1511753383.71072,\n",
       "   u'isValid': u'Y',\n",
       "   u'scenario': {u'DIIS1': u'H', u'DIIS2': u'SHP', u'DIIS3': u'SHP07'},\n",
       "   u'securityFilter': u'admin',\n",
       "   u'tagTime': 1511753355.71072},\n",
       "  {u'TAG_ID': u'TG0126',\n",
       "   u'dataSource': u'CC',\n",
       "   u'expireTime': 1511753383.713492,\n",
       "   u'isValid': u'Y',\n",
       "   u'scenario': {u'DIIS1': u'H', u'DIIS2': u'SHP', u'DIIS3': u'SHP01'},\n",
       "   u'securityFilter': u'admin',\n",
       "   u'tagTime': 1511753355.71348},\n",
       "  {u'TAG_ID': u'TG0133',\n",
       "   u'dataSource': u'PF',\n",
       "   u'expireTime': 1511853354.716868,\n",
       "   u'isValid': u'Y',\n",
       "   u'scenario': {u'DIIS1': u'H', u'DIIS2': u'CFE', u'DIIS3': u'CFE00'},\n",
       "   u'securityFilter': u'admin',\n",
       "   u'tagTime': 1511753355.716868},\n",
       "  {u'TAG_ID': u'TG0135',\n",
       "   u'dataSource': u'CC',\n",
       "   u'expireTime': 1511753385.719635,\n",
       "   u'isValid': u'Y',\n",
       "   u'scenario': {u'DIIS1': u'H', u'DIIS2': u'CFE', u'DIIS3': u'CFE00'},\n",
       "   u'securityFilter': u'admin',\n",
       "   u'tagTime': 1511753355.719635},\n",
       "  {u'TAG_ID': u'TG0134',\n",
       "   u'dataSource': u'PF',\n",
       "   u'expireTime': 1511853354.722381,\n",
       "   u'isValid': u'Y',\n",
       "   u'scenario': {u'DIIS1': u'H', u'DIIS2': u'FOD', u'DIIS3': u'FOD00'},\n",
       "   u'securityFilter': u'admin',\n",
       "   u'tagTime': 1511753355.72238},\n",
       "  {u'TAG_ID': u'TG0204',\n",
       "   u'dataSource': u'WB',\n",
       "   u'expireTime': 1511753383.72535,\n",
       "   u'isValid': u'Y',\n",
       "   u'scenario': {u'DIIS1': u'B', u'DIIS2': u'CC03', u'DIIS3': u'CC0349'},\n",
       "   u'securityFilter': u'admin',\n",
       "   u'tagTime': 1511753355.725349},\n",
       "  {u'TAG_ID': u'TG0086',\n",
       "   u'dataSource': u'CC',\n",
       "   u'expireTime': 1511753383.728091,\n",
       "   u'isValid': u'Y',\n",
       "   u'scenario': {u'DIIS1': u'I', u'DIIS2': u'CC', u'DIIS3': u'CC19'},\n",
       "   u'securityFilter': u'admin',\n",
       "   u'tagTime': 1511753355.72809},\n",
       "  {u'TAG_ID': u'TG0087',\n",
       "   u'dataSource': u'CC',\n",
       "   u'expireTime': 1511753383.730805,\n",
       "   u'isValid': u'Y',\n",
       "   u'scenario': {u'DIIS1': u'I', u'DIIS2': u'CC', u'DIIS3': u'CC20'},\n",
       "   u'securityFilter': u'admin',\n",
       "   u'tagTime': 1511753355.730804},\n",
       "  {u'TAG_ID': u'TG0090',\n",
       "   u'dataSource': u'CTI',\n",
       "   u'expireTime': 1511753383.733587,\n",
       "   u'isValid': u'Y',\n",
       "   u'scenario': {u'DIIS1': u'I', u'DIIS2': u'CC', u'DIIS3': u'CC23'},\n",
       "   u'securityFilter': u'admin',\n",
       "   u'tagTime': 1511753355.733586},\n",
       "  {u'TAG_ID': u'TG0092',\n",
       "   u'dataSource': u'TE',\n",
       "   u'expireTime': 1511753383.736481,\n",
       "   u'isValid': u'Y',\n",
       "   u'scenario': {u'DIIS1': u'I', u'DIIS2': u'CC', u'DIIS3': u'CC05'},\n",
       "   u'securityFilter': u'admin',\n",
       "   u'tagTime': 1511753355.73648},\n",
       "  {u'TAG_ID': u'TG0095',\n",
       "   u'dataSource': u'CC',\n",
       "   u'expireTime': 1511753385.739616,\n",
       "   u'isValid': u'Y',\n",
       "   u'scenario': {u'DIIS1': u'I', u'DIIS2': u'CC', u'DIIS3': u'CC08'},\n",
       "   u'securityFilter': u'admin',\n",
       "   u'tagTime': 1511753355.739616},\n",
       "  {u'TAG_ID': u'TG0276',\n",
       "   u'dataSource': u'CC',\n",
       "   u'expireTime': 1511753385.742567,\n",
       "   u'isValid': u'Y',\n",
       "   u'scenario': {u'DIIS1': u'B', u'DIIS2': u'LN02', u'DIIS3': u'LN0204'},\n",
       "   u'securityFilter': u'admin',\n",
       "   u'tagTime': 1511753355.742567},\n",
       "  {u'TAG_ID': u'TG0316',\n",
       "   u'dataSource': u'CC',\n",
       "   u'expireTime': 1511753385.745362,\n",
       "   u'isValid': u'Y',\n",
       "   u'scenario': {u'DIIS1': u'B', u'DIIS2': u'FX01', u'DIIS3': u'09'},\n",
       "   u'securityFilter': u'admin',\n",
       "   u'tagTime': 1511753355.745362},\n",
       "  {u'TAG_ID': u'TG0317',\n",
       "   u'dataSource': u'CC',\n",
       "   u'expireTime': 1511753385.74814,\n",
       "   u'isValid': u'Y',\n",
       "   u'scenario': {u'DIIS1': u'B', u'DIIS2': u'FX01', u'DIIS3': u'10'},\n",
       "   u'securityFilter': u'admin',\n",
       "   u'tagTime': 1511753355.748139},\n",
       "  {u'TAG_ID': u'TG0329',\n",
       "   u'dataSource': u'PTT',\n",
       "   u'expireTime': 1511753383.750941,\n",
       "   u'isValid': u'Y',\n",
       "   u'scenario': {u'DIIS1': u'B', u'DIIS2': u'FX02', u'DIIS3': u'12'},\n",
       "   u'securityFilter': u'admin',\n",
       "   u'tagTime': 1511753355.750941},\n",
       "  {u'TAG_ID': u'TG0289',\n",
       "   u'dataSource': u'PTT',\n",
       "   u'expireTime': 1511753383.753651,\n",
       "   u'isValid': u'Y',\n",
       "   u'scenario': {u'DIIS1': u'A', u'DIIS2': u'LC01', u'DIIS3': u'10'},\n",
       "   u'securityFilter': u'admin',\n",
       "   u'tagTime': 1511753355.753651},\n",
       "  {u'TAG_ID': u'SEG001',\n",
       "   u'Tag_Value': 5,\n",
       "   u'dataSource': u'EBM',\n",
       "   u'expireTime': 1511753385.75643,\n",
       "   u'isValid': u'Y',\n",
       "   u'scenario': {u'DIIS1': u'S', u'DIIS2': u'SEG001', u'DIIS3': u'01'},\n",
       "   u'securityFilter': u'admin',\n",
       "   u'tagTime': 1511753355.756429},\n",
       "  {u'TAG_ID': u'SEG002',\n",
       "   u'Tag_Value': 1,\n",
       "   u'dataSource': u'EBM',\n",
       "   u'expireTime': 1511753385.761137,\n",
       "   u'isValid': u'Y',\n",
       "   u'scenario': {u'DIIS1': u'S', u'DIIS2': u'SEG002', u'DIIS3': u'02'},\n",
       "   u'securityFilter': u'admin',\n",
       "   u'tagTime': 1511753355.761137}],\n",
       " u'realtimeTag': []}"
      ]
     },
     "execution_count": 48,
     "metadata": {},
     "output_type": "execute_result"
    }
   ],
   "source": [
    "json.loads(a)"
   ]
  },
  {
   "cell_type": "code",
   "execution_count": 4,
   "metadata": {
    "collapsed": true
   },
   "outputs": [],
   "source": [
    "import time"
   ]
  },
  {
   "cell_type": "code",
   "execution_count": 8,
   "metadata": {
    "collapsed": false
   },
   "outputs": [
    {
     "name": "stdout",
     "output_type": "stream",
     "text": [
      "0\n",
      "1\n",
      "2\n",
      "3\n",
      "4\n",
      "5\n",
      "6\n",
      "7\n",
      "8\n",
      "9\n"
     ]
    }
   ],
   "source": [
    "for i in range(10):\n",
    "    time.sleep(1)\n",
    "    print i"
   ]
  }
 ],
 "metadata": {
  "kernelspec": {
   "display_name": "Python 2",
   "language": "python",
   "name": "python2"
  },
  "language_info": {
   "codemirror_mode": {
    "name": "ipython",
    "version": 2
   },
   "file_extension": ".py",
   "mimetype": "text/x-python",
   "name": "python",
   "nbconvert_exporter": "python",
   "pygments_lexer": "ipython2",
   "version": "2.7.12"
  }
 },
 "nbformat": 4,
 "nbformat_minor": 1
}
