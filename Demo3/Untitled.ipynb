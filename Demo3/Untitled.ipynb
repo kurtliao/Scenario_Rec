{
 "cells": [
  {
   "cell_type": "code",
   "execution_count": 22,
   "metadata": {
    "collapsed": true
   },
   "outputs": [],
   "source": [
    "import pandas as pd\n",
    "import json\n",
    "from datetime import datetime\n",
    "import calendar \n",
    "from flask import Flask,g\n",
    "from flask import jsonify\n",
    "from flask import request\n",
    "import requests\n",
    "import redis\n",
    "import sys\n",
    "reload(sys)\n",
    "sys.setdefaultencoding('utf-8')\n",
    "import inspect, os\n",
    "import psycopg2\n",
    "import math\n"
   ]
  },
  {
   "cell_type": "code",
   "execution_count": null,
   "metadata": {
    "collapsed": true
   },
   "outputs": [],
   "source": [
    "request_url = "
   ]
  },
  {
   "cell_type": "code",
   "execution_count": 13,
   "metadata": {
    "collapsed": false
   },
   "outputs": [],
   "source": [
    "r=requests.get('http://localhost:3010/user/Scenario_Rec?vid=15000').json()\n"
   ]
  },
  {
   "cell_type": "code",
   "execution_count": 14,
   "metadata": {
    "collapsed": false
   },
   "outputs": [
    {
     "data": {
      "text/plain": [
       "{u'Offer': [u'OFF0039',\n",
       "  u'OFF0035',\n",
       "  u'OFF0036',\n",
       "  u'OFF0037',\n",
       "  u'OFF0038',\n",
       "  u'OFF0042',\n",
       "  u'OFF0062'],\n",
       " u'Offer1': [u'OFF0010',\n",
       "  u'OFF0021',\n",
       "  u'OFF0045',\n",
       "  u'OFF0008',\n",
       "  u'OFF0001',\n",
       "  u'OFF0005',\n",
       "  u'OFF0011',\n",
       "  u'OFF0013',\n",
       "  u'OFF0015',\n",
       "  u'OFF0020'],\n",
       " u'offer_desc': u'\\u60f3\\u6210\\u5bb6\\u7684\\u60a8\\u7d55\\u5c0d\\u4e0d\\u80fd\\u932f\\u904e',\n",
       " u'offer_desc1': u'\\u65c5\\u904a\\u5927\\u5c0f\\u4e8b\\u5831\\u4f60\\u77e5\\u900f\\u900f'}"
      ]
     },
     "execution_count": 14,
     "metadata": {},
     "output_type": "execute_result"
    }
   ],
   "source": [
    "r"
   ]
  },
  {
   "cell_type": "code",
   "execution_count": 15,
   "metadata": {
    "collapsed": true
   },
   "outputs": [],
   "source": [
    "output = []"
   ]
  },
  {
   "cell_type": "code",
   "execution_count": 16,
   "metadata": {
    "collapsed": true
   },
   "outputs": [],
   "source": [
    "for i in range(1,300):\n",
    "    url = 'http://localhost:3010/user/Scenario_Rec?vid='+str(i)\n",
    "    r=requests.get(url).json()\n",
    "    output.append(r)\n",
    "    "
   ]
  },
  {
   "cell_type": "code",
   "execution_count": 17,
   "metadata": {
    "collapsed": true
   },
   "outputs": [],
   "source": [
    "for i in range(10001,10050):\n",
    "    url = 'http://localhost:3010/user/Scenario_Rec?vid='+str(i)\n",
    "    r=requests.get(url).json()\n",
    "    output.append(r)\n",
    "    "
   ]
  },
  {
   "cell_type": "code",
   "execution_count": 27,
   "metadata": {
    "collapsed": false
   },
   "outputs": [
    {
     "data": {
      "text/plain": [
       "'/Users/liaoziqing/Documents/Python/Rec_MJ/MJ_git/ETL_json/Demo3/Scenario_Rec/Demo3/Test_output.json'"
      ]
     },
     "execution_count": 27,
     "metadata": {},
     "output_type": "execute_result"
    }
   ],
   "source": [
    "#output\n",
    "a = inspect.getfile(inspect.currentframe())\n",
    "b = os.path.dirname(os.path.abspath(a)) \n",
    "file_path = os.path.join( b , 'Test_output.json' )\n",
    "file_path"
   ]
  },
  {
   "cell_type": "code",
   "execution_count": 26,
   "metadata": {
    "collapsed": false
   },
   "outputs": [],
   "source": [
    "with open(file_path,'w') as f:\n",
    "    json.dump(output,f)\n",
    "    print 'finish'"
   ]
  }
 ],
 "metadata": {
  "kernelspec": {
   "display_name": "Python 2",
   "language": "python",
   "name": "python2"
  },
  "language_info": {
   "codemirror_mode": {
    "name": "ipython",
    "version": 2
   },
   "file_extension": ".py",
   "mimetype": "text/x-python",
   "name": "python",
   "nbconvert_exporter": "python",
   "pygments_lexer": "ipython2",
   "version": "2.7.12"
  }
 },
 "nbformat": 4,
 "nbformat_minor": 1
}
